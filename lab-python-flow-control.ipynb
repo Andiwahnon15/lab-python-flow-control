{
 "cells": [
  {
   "cell_type": "markdown",
   "id": "d3bfc191-8885-42ee-b0a0-bbab867c6f9f",
   "metadata": {
    "tags": []
   },
   "source": [
    "# Lab | Flow Control"
   ]
  },
  {
   "cell_type": "markdown",
   "id": "3851fcd1-cf98-4653-9c89-e003b7ec9400",
   "metadata": {},
   "source": [
    "## Exercise: Managing Customer Orders Optimized\n",
    "\n",
    "In the last lab, you were starting an online store that sells various products. To ensure smooth operations, you developed a program that manages customer orders and inventory.\n",
    "\n",
    "You did so without using flow control. Let's go a step further and improve this code.\n",
    "\n",
    "Follow the steps below to complete the exercise:\n",
    "\n",
    "1. Look at your code from the lab data structures, and improve repeated code with loops.\n",
    "\n",
    "2. Instead of asking the user to input the name of three products that a customer wants to order, do the following:\n",
    "    \n",
    "    a. Prompt the user to enter the name of a product that a customer wants to order.\n",
    "    \n",
    "    b. Add the product name to the \"customer_orders\" set.\n",
    "    \n",
    "    c. Ask the user if they want to add another product (yes/no).\n",
    "    \n",
    "    d. Continue the loop until the user does not want to add another product.\n",
    "\n",
    "3. Instead of updating the inventory by subtracting 1 from the quantity of each product, only do it for  the products that were ordered (those in \"customer_orders\")."
   ]
  },
  {
   "cell_type": "code",
   "execution_count": 2,
   "id": "7e8f1cc4",
   "metadata": {},
   "outputs": [],
   "source": [
    "products=[\"t-shirt\",\"mug\",\"hat\",\"book\",\"keychain\"]\n",
    "inventory={}\n",
    "for product in products:\n",
    "    quantity=int(input(\"Enter the quantity of {product}: \"))\n",
    "    inventory[product]=quantity\n",
    "\n",
    "customer_orders= set()"
   ]
  },
  {
   "cell_type": "code",
   "execution_count": 4,
   "id": "1e39e442",
   "metadata": {},
   "outputs": [],
   "source": [
    "#Step 2\n",
    "def ask_user():\n",
    "    while True:\n",
    "         product=input(\"Enter the product that the costumer wants to buy:\").lower()\n",
    "         if product in products:\n",
    "             if product in customer_orders:\n",
    "                 print(\"the product was already order\")\n",
    "             else:\n",
    "                 customer_orders.add(product)\n",
    "         else:\n",
    "            print(\"Try again\")\n",
    "\n",
    "         choose=input(\"Do you want to choose antoher products? (yes or no):\").lower()\n",
    "         if choose!=\"yes\":\n",
    "            break\n",
    "        \n",
    "             \n",
    "ask_user()\n",
    "\n",
    "#Step 3\n",
    "def update_inventory(orders):\n",
    "    for item in orders:\n",
    "        if item in inventory:\n",
    "            inventory[item]-=1\n",
    "               \n",
    "update_inventory(customer_orders)\n",
    "print(\"Updated Inventory:\")\n",
    "for product,quantity in inventory.items():\n",
    "    print(f\"{product}: {quantity}\")"
   ]
  },
  {
   "cell_type": "code",
   "execution_count": null,
   "id": "d474ead9",
   "metadata": {},
   "outputs": [],
   "source": []
  }
 ],
 "metadata": {
  "kernelspec": {
   "display_name": "Python 3 (ipykernel)",
   "language": "python",
   "name": "python3"
  },
  "language_info": {
   "codemirror_mode": {
    "name": "ipython",
    "version": 3
   },
   "file_extension": ".py",
   "mimetype": "text/x-python",
   "name": "python",
   "nbconvert_exporter": "python",
   "pygments_lexer": "ipython3",
   "version": "3.11.7"
  }
 },
 "nbformat": 4,
 "nbformat_minor": 5
}
